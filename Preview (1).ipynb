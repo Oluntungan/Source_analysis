{
 "cells": [
  {
   "cell_type": "markdown",
   "metadata": {},
   "source": [
    "set api_key from Command Prompt before opening notebook"
   ]
  },
  {
   "cell_type": "markdown",
   "metadata": {},
   "source": [
    "## Load Raw Data"
   ]
  },
  {
   "cell_type": "markdown",
   "metadata": {},
   "source": [
    "This notebook only retrieves ActiveEnergy_consumption_kWh energy logs for Meter 17600, which is the aggregate of the physical Meters 10000 to 17400 inclusive. "
   ]
  },
  {
   "cell_type": "markdown",
   "metadata": {},
   "source": [
    "Meters:17600\n",
    "StartDate: 01/05/2020\n",
    "EndDate: 30/09/2020\n",
    "Meter 17600 is the aggregate of the all meters(i.e only ActiveEnergy_consumption_kWh and Power_kW available) "
   ]
  },
  {
   "cell_type": "code",
   "execution_count": 2,
   "metadata": {},
   "outputs": [],
   "source": [
    "StartDate = '01/05/2020'\n",
    "EndDate = '30/09/2020'"
   ]
  },
  {
   "cell_type": "code",
   "execution_count": 4,
   "metadata": {
    "scrolled": false
   },
   "outputs": [
    {
     "name": "stdout",
     "output_type": "stream",
     "text": [
      "Enter Starting meter: 17600\n",
      "Enter Ending meter: 17600\n"
     ]
    }
   ],
   "source": [
    "%run -i \"getData.py\""
   ]
  },
  {
   "cell_type": "markdown",
   "metadata": {},
   "source": [
    "Select Output of 'rawData.py' to produce df DataFrame only and not raw_df Dataframe before running the next command line "
   ]
  },
  {
   "cell_type": "code",
   "execution_count": 5,
   "metadata": {
    "scrolled": false
   },
   "outputs": [
    {
     "name": "stdout",
     "output_type": "stream",
     "text": [
      "Enter Starting meter: 17600\n",
      "Enter Ending meter: 17600\n"
     ]
    },
    {
     "name": "stderr",
     "output_type": "stream",
     "text": [
      "C:\\Users\\oluntung\\Anaconda3\\lib\\site-packages\\urllib3\\connectionpool.py:979: InsecureRequestWarning: Unverified HTTPS request is being made to host 'catalyst.visualx.online'. Adding certificate verification is strongly advised. See: https://urllib3.readthedocs.io/en/latest/advanced-usage.html#ssl-warnings\n",
      "  warnings.warn(\n"
     ]
    },
    {
     "name": "stdout",
     "output_type": "stream",
     "text": [
      "ActiveEnergy_consumption_kWh data loaded\n",
      "Wall time: 8.8 s\n"
     ]
    }
   ],
   "source": [
    "%%time\n",
    "## Get Raw Data\n",
    "### Merge into single dataframe\n",
    "%run -i \"rawData.py\""
   ]
  },
  {
   "cell_type": "code",
   "execution_count": 5,
   "metadata": {
    "scrolled": true
   },
   "outputs": [
    {
     "name": "stdout",
     "output_type": "stream",
     "text": [
      "<class 'pandas.core.frame.DataFrame'>\n",
      "RangeIndex: 14685 entries, 0 to 14684\n",
      "Data columns (total 3 columns):\n",
      " #   Column                        Non-Null Count  Dtype  \n",
      "---  ------                        --------------  -----  \n",
      " 0   time                          14685 non-null  object \n",
      " 1   meter                         14685 non-null  int64  \n",
      " 2   ActiveEnergy_consumption_kWh  14685 non-null  float64\n",
      "dtypes: float64(1), int64(1), object(1)\n",
      "memory usage: 344.3+ KB\n"
     ]
    }
   ],
   "source": [
    "df.info()"
   ]
  },
  {
   "cell_type": "markdown",
   "metadata": {},
   "source": [
    "### Clean df DataFrame"
   ]
  },
  {
   "cell_type": "code",
   "execution_count": 6,
   "metadata": {},
   "outputs": [
    {
     "name": "stdout",
     "output_type": "stream",
     "text": [
      "start: 2020-05-01 00:00:00 \n",
      "end: 2020-09-30 23:00:00 \n",
      "duration: 152 days 23:00:00\n"
     ]
    }
   ],
   "source": [
    "#Ordering Categories \n",
    "cat = [\"January\",\"February\",\"March\",\"April\",\"May\",\"June\",\"July\",\"August\",\"September\",\"October\",\"November\",\"December\"]\n",
    "cats = ['Monday', 'Tuesday', 'Wednesday', 'Thursday', 'Friday', 'Saturday', 'Sunday']\n",
    "\n",
    "# Convert Time into timestamp\n",
    "df['time'] = pd.to_datetime(df['time'])\n",
    "\n",
    "time_interval = df['time'].max()-df['time'].min()\n",
    "print(\"start:\",df['time'].min(), \"\\nend:\",df['time'].max(), \"\\nduration:\", time_interval)"
   ]
  },
  {
   "cell_type": "markdown",
   "metadata": {},
   "source": [
    "Create individual DataFrames for different sampling rates "
   ]
  },
  {
   "cell_type": "code",
   "execution_count": 7,
   "metadata": {},
   "outputs": [],
   "source": [
    "### Energy Consumption dataframe\n",
    "EnergyConsumption_df = df\n",
    "EnergyConsumption_df[\"time_hourly\"] = EnergyConsumption_df[\"time\"].dt.to_period(\"H\")\n",
    "EnergyConsumption_df[\"time_day\"] = EnergyConsumption_df[\"time\"].dt.to_period(\"D\")\n",
    "EnergyConsumption_df['time_month'] = EnergyConsumption_df['time'].dt.to_period('M')\n",
    "\n",
    "### Monthly Timestamps\n",
    "E_monthly = EnergyConsumption_df.groupby(['meter','time_month'])['ActiveEnergy_consumption_kWh'].sum().reset_index()\n",
    "E_monthly['month'] = E_monthly['time_month'].dt.strftime('%B')\n",
    "E_monthly['month'] = pd.Categorical(E_monthly['month'],categories = cat, ordered = True)\n",
    "\n",
    "### Daily Timestamps\n",
    "E_daily = EnergyConsumption_df.groupby(['meter','time_day'])['ActiveEnergy_consumption_kWh'].sum().reset_index()\n",
    "E_daily['month'] = E_daily['time_day'].dt.strftime('%B')\n",
    "E_daily['month'] = pd.Categorical(E_daily['month'],categories = cat, ordered = True)\n",
    "E_daily['day'] = E_daily['time_day'].dt.strftime('%A')\n",
    "E_daily['day'] =  pd.Categorical(E_daily['day'],categories = cats, ordered = True)\n",
    "E_daily['week'] = E_daily['time_day'].dt.strftime('%W')  # Monday as start of week\n",
    "E_daily['week'] = E_daily['week'].astype('int64')\n",
    "\n",
    "### Hourly Timestamps\n",
    "EnergyConsumption_df = EnergyConsumption_df.groupby([\"meter\",'time_hourly'])['ActiveEnergy_consumption_kWh'].sum().reset_index()\n",
    "\n",
    "EnergyConsumption_df[\"0.5kWh<x<2.0Wh\"] =(EnergyConsumption_df['ActiveEnergy_consumption_kWh'] > 0.5) & (EnergyConsumption_df['ActiveEnergy_consumption_kWh'] <= 2.0)\n",
    "EnergyConsumption_df[\">2.0kWh\"] =(EnergyConsumption_df['ActiveEnergy_consumption_kWh'] > 2.0)\n",
    "EnergyConsumption_df[\"<=0.5kWh\"] =(EnergyConsumption_df['ActiveEnergy_consumption_kWh'] <= 0.5)\n",
    "EnergyConsumption_df['month'] = EnergyConsumption_df['time_hourly'].dt.strftime('%B')\n",
    "EnergyConsumption_df['month'] = pd.Categorical(EnergyConsumption_df['month'],categories = cat, ordered = True)\n",
    "EnergyConsumption_df['week'] = EnergyConsumption_df['time_hourly'].dt.strftime('%W')  # Monday as start of week\n",
    "EnergyConsumption_df['week'] = EnergyConsumption_df['week'].astype('int64')\n",
    "EnergyConsumption_df['day'] = EnergyConsumption_df['time_hourly'].dt.strftime('%A')\n",
    "EnergyConsumption_df['day'] =  pd.Categorical(EnergyConsumption_df['day'],categories = cats, ordered = True)\n",
    "EnergyConsumption_df['hour'] = EnergyConsumption_df['time_hourly'].dt.hour\n",
    "\n",
    "EnergyConsumption_df = EnergyConsumption_df[['meter','time_hourly','month','week','day','hour','ActiveEnergy_consumption_kWh',\"<=0.5kWh\",\"0.5kWh<x<2.0Wh\",\">2.0kWh\"]]\n",
    "E_monthly = E_monthly[['meter','time_month','month','ActiveEnergy_consumption_kWh']]\n",
    "E_daily = E_daily[['meter','time_day','month','week','day','ActiveEnergy_consumption_kWh']]\n"
   ]
  },
  {
   "cell_type": "code",
   "execution_count": 9,
   "metadata": {
    "scrolled": false
   },
   "outputs": [
    {
     "data": {
      "text/html": [
       "<div>\n",
       "<style scoped>\n",
       "    .dataframe tbody tr th:only-of-type {\n",
       "        vertical-align: middle;\n",
       "    }\n",
       "\n",
       "    .dataframe tbody tr th {\n",
       "        vertical-align: top;\n",
       "    }\n",
       "\n",
       "    .dataframe thead th {\n",
       "        text-align: right;\n",
       "    }\n",
       "</style>\n",
       "<table border=\"1\" class=\"dataframe\">\n",
       "  <thead>\n",
       "    <tr style=\"text-align: right;\">\n",
       "      <th></th>\n",
       "      <th>meter</th>\n",
       "      <th>time_hourly</th>\n",
       "      <th>month</th>\n",
       "      <th>week</th>\n",
       "      <th>day</th>\n",
       "      <th>hour</th>\n",
       "      <th>ActiveEnergy_consumption_kWh</th>\n",
       "      <th>&lt;=0.5kWh</th>\n",
       "      <th>0.5kWh&lt;x&lt;2.0Wh</th>\n",
       "      <th>&gt;2.0kWh</th>\n",
       "      <th>season</th>\n",
       "    </tr>\n",
       "  </thead>\n",
       "  <tbody>\n",
       "    <tr>\n",
       "      <th>0</th>\n",
       "      <td>17600</td>\n",
       "      <td>2020-05-01 00:00</td>\n",
       "      <td>May</td>\n",
       "      <td>17</td>\n",
       "      <td>Friday</td>\n",
       "      <td>0</td>\n",
       "      <td>5.360242</td>\n",
       "      <td>False</td>\n",
       "      <td>False</td>\n",
       "      <td>True</td>\n",
       "      <td>Autumn</td>\n",
       "    </tr>\n",
       "    <tr>\n",
       "      <th>1</th>\n",
       "      <td>17600</td>\n",
       "      <td>2020-05-01 01:00</td>\n",
       "      <td>May</td>\n",
       "      <td>17</td>\n",
       "      <td>Friday</td>\n",
       "      <td>1</td>\n",
       "      <td>4.950242</td>\n",
       "      <td>False</td>\n",
       "      <td>False</td>\n",
       "      <td>True</td>\n",
       "      <td>Autumn</td>\n",
       "    </tr>\n",
       "    <tr>\n",
       "      <th>2</th>\n",
       "      <td>17600</td>\n",
       "      <td>2020-05-01 02:00</td>\n",
       "      <td>May</td>\n",
       "      <td>17</td>\n",
       "      <td>Friday</td>\n",
       "      <td>2</td>\n",
       "      <td>5.420242</td>\n",
       "      <td>False</td>\n",
       "      <td>False</td>\n",
       "      <td>True</td>\n",
       "      <td>Autumn</td>\n",
       "    </tr>\n",
       "    <tr>\n",
       "      <th>3</th>\n",
       "      <td>17600</td>\n",
       "      <td>2020-05-01 03:00</td>\n",
       "      <td>May</td>\n",
       "      <td>17</td>\n",
       "      <td>Friday</td>\n",
       "      <td>3</td>\n",
       "      <td>5.050242</td>\n",
       "      <td>False</td>\n",
       "      <td>False</td>\n",
       "      <td>True</td>\n",
       "      <td>Autumn</td>\n",
       "    </tr>\n",
       "    <tr>\n",
       "      <th>4</th>\n",
       "      <td>17600</td>\n",
       "      <td>2020-05-01 04:00</td>\n",
       "      <td>May</td>\n",
       "      <td>17</td>\n",
       "      <td>Friday</td>\n",
       "      <td>4</td>\n",
       "      <td>5.450242</td>\n",
       "      <td>False</td>\n",
       "      <td>False</td>\n",
       "      <td>True</td>\n",
       "      <td>Autumn</td>\n",
       "    </tr>\n",
       "  </tbody>\n",
       "</table>\n",
       "</div>"
      ],
      "text/plain": [
       "   meter       time_hourly month  week     day  hour  \\\n",
       "0  17600  2020-05-01 00:00   May    17  Friday     0   \n",
       "1  17600  2020-05-01 01:00   May    17  Friday     1   \n",
       "2  17600  2020-05-01 02:00   May    17  Friday     2   \n",
       "3  17600  2020-05-01 03:00   May    17  Friday     3   \n",
       "4  17600  2020-05-01 04:00   May    17  Friday     4   \n",
       "\n",
       "   ActiveEnergy_consumption_kWh  <=0.5kWh  0.5kWh<x<2.0Wh  >2.0kWh  season  \n",
       "0                      5.360242     False           False     True  Autumn  \n",
       "1                      4.950242     False           False     True  Autumn  \n",
       "2                      5.420242     False           False     True  Autumn  \n",
       "3                      5.050242     False           False     True  Autumn  \n",
       "4                      5.450242     False           False     True  Autumn  "
      ]
     },
     "execution_count": 9,
     "metadata": {},
     "output_type": "execute_result"
    }
   ],
   "source": [
    "### Sampling Frequency: Hourly \n",
    "EnergyConsumption_df.head(5)"
   ]
  }
 ],
 "metadata": {
  "kernelspec": {
   "display_name": "Python 3",
   "language": "python",
   "name": "python3"
  },
  "language_info": {
   "codemirror_mode": {
    "name": "ipython",
    "version": 3
   },
   "file_extension": ".py",
   "mimetype": "text/x-python",
   "name": "python",
   "nbconvert_exporter": "python",
   "pygments_lexer": "ipython3",
   "version": "3.8.3"
  }
 },
 "nbformat": 4,
 "nbformat_minor": 4
}
